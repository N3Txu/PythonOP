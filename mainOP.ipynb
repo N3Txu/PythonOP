{
 "cells": [
  {
   "cell_type": "code",
   "execution_count": 14,
   "metadata": {},
   "outputs": [
    {
     "name": "stdout",
     "output_type": "stream",
     "text": [
      "Librerías importadas correctamente ✅\n"
     ]
    }
   ],
   "source": [
    "# Importar librerías\n",
    "import numpy as np\n",
    "from scipy.optimize import linprog\n",
    "\n",
    "print(\"Librerías importadas correctamente ✅\")\n"
   ]
  },
  {
   "cell_type": "code",
   "execution_count": 15,
   "metadata": {},
   "outputs": [
    {
     "name": "stdout",
     "output_type": "stream",
     "text": [
      "Coeficientes de la función objetivo: [5, 200]\n"
     ]
    }
   ],
   "source": [
    "# Función objetivo: minimizar costo Z = 5x + 200y\n",
    "costo = [5, 200]\n",
    "\n",
    "print(f\"Coeficientes de la función objetivo: {costo}\")\n"
   ]
  },
  {
   "cell_type": "code",
   "execution_count": 16,
   "metadata": {},
   "outputs": [
    {
     "name": "stdout",
     "output_type": "stream",
     "text": [
      "Restricciones definidas correctamente:\n",
      "A = [[-10, -100], [5, 200]]\n",
      "b = [-2000, 20000]\n"
     ]
    }
   ],
   "source": [
    "# Restricciones Ax <= b\n",
    "\n",
    "# Cobertura total (10x + 100y >= 2000) → multiplicar por -1: (-10x -100y <= -2000)\n",
    "# Presupuesto máximo (5x + 200y <= 20000)\n",
    "A = [\n",
    "    [-10, -100],  # Restricción de cobertura mínima (≥ transformada en ≤)\n",
    "    [5, 200]      # Restricción del presupuesto máximo (≤)\n",
    "]\n",
    "\n",
    "b = [-2000, 20000]\n",
    "\n",
    "print(\"Restricciones definidas correctamente:\")\n",
    "print(f\"A = {A}\")\n",
    "print(f\"b = {b}\")\n"
   ]
  },
  {
   "cell_type": "code",
   "execution_count": 17,
   "metadata": {},
   "outputs": [
    {
     "name": "stdout",
     "output_type": "stream",
     "text": [
      "Límites establecidos: x (0, None), y (0, None)\n"
     ]
    }
   ],
   "source": [
    "# Variables no negativas: x >= 0, y >= 0\n",
    "x_bounds = (0, None)\n",
    "y_bounds = (0, None)\n",
    "\n",
    "print(f\"Límites establecidos: x {x_bounds}, y {y_bounds}\")\n"
   ]
  },
  {
   "cell_type": "code",
   "execution_count": 23,
   "metadata": {},
   "outputs": [
    {
     "name": "stdout",
     "output_type": "stream",
     "text": [
      "Solución óptima encontrada:\n",
      "Metros de cable (x) = 200.00\n",
      "Puntos Wi-Fi (y) = 0.00\n",
      "Costo mínimo Z = $1000.00\n"
     ]
    }
   ],
   "source": [
    "# Resolver usando método highs (actualizado)\n",
    "resultado = linprog(\n",
    "    c=costo,\n",
    "    A_ub=A,\n",
    "    b_ub=b,\n",
    "    bounds=[x_bounds, y_bounds],\n",
    "    method='highs' # Método simplex mejorado recomendado por SciPy\n",
    ")\n",
    "\n",
    "# Mostrar resultado actualizado\n",
    "if resultado.success:\n",
    "    print(\"Solución óptima encontrada:\")\n",
    "    print(f\"Metros de cable (x) = {resultado.x[0]:.2f}\")\n",
    "    print(f\"Puntos Wi-Fi (y) = {resultado.x[1]:.2f}\")\n",
    "    print(f\"Costo mínimo Z = ${resultado.fun:.2f}\")\n",
    "else:\n",
    "    print(\"No se encontró solución:\", resultado.message)\n"
   ]
  }
 ],
 "metadata": {
  "kernelspec": {
   "display_name": "env",
   "language": "python",
   "name": "python3"
  },
  "language_info": {
   "codemirror_mode": {
    "name": "ipython",
    "version": 3
   },
   "file_extension": ".py",
   "mimetype": "text/x-python",
   "name": "python",
   "nbconvert_exporter": "python",
   "pygments_lexer": "ipython3",
   "version": "3.12.4"
  }
 },
 "nbformat": 4,
 "nbformat_minor": 2
}
